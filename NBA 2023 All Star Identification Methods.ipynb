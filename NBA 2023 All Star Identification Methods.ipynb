{
 "cells": [
  {
   "cell_type": "code",
   "execution_count": 1,
   "id": "ded513e3",
   "metadata": {},
   "outputs": [
    {
     "name": "stderr",
     "output_type": "stream",
     "text": [
      "/Users/cameronmiller/venv/lib/python3.9/site-packages/statsmodels/compat/pandas.py:65: FutureWarning: pandas.Int64Index is deprecated and will be removed from pandas in a future version. Use pandas.Index with the appropriate dtype instead.\n",
      "  from pandas import Int64Index as NumericIndex\n"
     ]
    },
    {
     "data": {
      "text/html": [
       "<div>\n",
       "<style scoped>\n",
       "    .dataframe tbody tr th:only-of-type {\n",
       "        vertical-align: middle;\n",
       "    }\n",
       "\n",
       "    .dataframe tbody tr th {\n",
       "        vertical-align: top;\n",
       "    }\n",
       "\n",
       "    .dataframe thead th {\n",
       "        text-align: right;\n",
       "    }\n",
       "</style>\n",
       "<table border=\"1\" class=\"dataframe\">\n",
       "  <thead>\n",
       "    <tr style=\"text-align: right;\">\n",
       "      <th></th>\n",
       "      <th>Rk</th>\n",
       "      <th>Player</th>\n",
       "      <th>Pos</th>\n",
       "      <th>Age</th>\n",
       "      <th>Tm</th>\n",
       "      <th>G</th>\n",
       "      <th>GS</th>\n",
       "      <th>MP</th>\n",
       "      <th>FG</th>\n",
       "      <th>FGA</th>\n",
       "      <th>...</th>\n",
       "      <th>FT%</th>\n",
       "      <th>ORB</th>\n",
       "      <th>DRB</th>\n",
       "      <th>TRB</th>\n",
       "      <th>AST</th>\n",
       "      <th>STL</th>\n",
       "      <th>BLK</th>\n",
       "      <th>TOV</th>\n",
       "      <th>PF</th>\n",
       "      <th>PTS</th>\n",
       "    </tr>\n",
       "  </thead>\n",
       "  <tbody>\n",
       "    <tr>\n",
       "      <th>0</th>\n",
       "      <td>1</td>\n",
       "      <td>Precious Achiuwa</td>\n",
       "      <td>C</td>\n",
       "      <td>23</td>\n",
       "      <td>TOR</td>\n",
       "      <td>35</td>\n",
       "      <td>11</td>\n",
       "      <td>23.6</td>\n",
       "      <td>4.0</td>\n",
       "      <td>8.2</td>\n",
       "      <td>...</td>\n",
       "      <td>.691</td>\n",
       "      <td>2.1</td>\n",
       "      <td>4.6</td>\n",
       "      <td>6.7</td>\n",
       "      <td>1.0</td>\n",
       "      <td>0.7</td>\n",
       "      <td>0.7</td>\n",
       "      <td>1.2</td>\n",
       "      <td>2.2</td>\n",
       "      <td>10.5</td>\n",
       "    </tr>\n",
       "    <tr>\n",
       "      <th>1</th>\n",
       "      <td>2</td>\n",
       "      <td>Steven Adams</td>\n",
       "      <td>C</td>\n",
       "      <td>29</td>\n",
       "      <td>MEM</td>\n",
       "      <td>42</td>\n",
       "      <td>42</td>\n",
       "      <td>27.0</td>\n",
       "      <td>3.7</td>\n",
       "      <td>6.3</td>\n",
       "      <td>...</td>\n",
       "      <td>.364</td>\n",
       "      <td>5.1</td>\n",
       "      <td>6.5</td>\n",
       "      <td>11.5</td>\n",
       "      <td>2.3</td>\n",
       "      <td>0.9</td>\n",
       "      <td>1.1</td>\n",
       "      <td>1.9</td>\n",
       "      <td>2.3</td>\n",
       "      <td>8.6</td>\n",
       "    </tr>\n",
       "    <tr>\n",
       "      <th>2</th>\n",
       "      <td>3</td>\n",
       "      <td>Bam Adebayo</td>\n",
       "      <td>C</td>\n",
       "      <td>25</td>\n",
       "      <td>MIA</td>\n",
       "      <td>54</td>\n",
       "      <td>54</td>\n",
       "      <td>35.4</td>\n",
       "      <td>8.5</td>\n",
       "      <td>15.7</td>\n",
       "      <td>...</td>\n",
       "      <td>.805</td>\n",
       "      <td>2.7</td>\n",
       "      <td>7.3</td>\n",
       "      <td>10.0</td>\n",
       "      <td>3.3</td>\n",
       "      <td>1.2</td>\n",
       "      <td>0.8</td>\n",
       "      <td>2.5</td>\n",
       "      <td>2.8</td>\n",
       "      <td>21.6</td>\n",
       "    </tr>\n",
       "    <tr>\n",
       "      <th>3</th>\n",
       "      <td>4</td>\n",
       "      <td>Ochai Agbaji</td>\n",
       "      <td>SG</td>\n",
       "      <td>22</td>\n",
       "      <td>UTA</td>\n",
       "      <td>37</td>\n",
       "      <td>2</td>\n",
       "      <td>15.1</td>\n",
       "      <td>1.7</td>\n",
       "      <td>3.5</td>\n",
       "      <td>...</td>\n",
       "      <td>.625</td>\n",
       "      <td>0.6</td>\n",
       "      <td>1.0</td>\n",
       "      <td>1.7</td>\n",
       "      <td>0.5</td>\n",
       "      <td>0.1</td>\n",
       "      <td>0.1</td>\n",
       "      <td>0.3</td>\n",
       "      <td>1.4</td>\n",
       "      <td>4.6</td>\n",
       "    </tr>\n",
       "    <tr>\n",
       "      <th>4</th>\n",
       "      <td>5</td>\n",
       "      <td>Santi Aldama</td>\n",
       "      <td>PF</td>\n",
       "      <td>22</td>\n",
       "      <td>MEM</td>\n",
       "      <td>54</td>\n",
       "      <td>18</td>\n",
       "      <td>22.1</td>\n",
       "      <td>3.4</td>\n",
       "      <td>7.1</td>\n",
       "      <td>...</td>\n",
       "      <td>.738</td>\n",
       "      <td>1.0</td>\n",
       "      <td>3.7</td>\n",
       "      <td>4.7</td>\n",
       "      <td>1.2</td>\n",
       "      <td>0.7</td>\n",
       "      <td>0.7</td>\n",
       "      <td>0.7</td>\n",
       "      <td>1.9</td>\n",
       "      <td>9.5</td>\n",
       "    </tr>\n",
       "  </tbody>\n",
       "</table>\n",
       "<p>5 rows × 30 columns</p>\n",
       "</div>"
      ],
      "text/plain": [
       "  Rk            Player Pos Age   Tm   G  GS    MP   FG   FGA  ...   FT%  ORB  \\\n",
       "0  1  Precious Achiuwa   C  23  TOR  35  11  23.6  4.0   8.2  ...  .691  2.1   \n",
       "1  2      Steven Adams   C  29  MEM  42  42  27.0  3.7   6.3  ...  .364  5.1   \n",
       "2  3       Bam Adebayo   C  25  MIA  54  54  35.4  8.5  15.7  ...  .805  2.7   \n",
       "3  4      Ochai Agbaji  SG  22  UTA  37   2  15.1  1.7   3.5  ...  .625  0.6   \n",
       "4  5      Santi Aldama  PF  22  MEM  54  18  22.1  3.4   7.1  ...  .738  1.0   \n",
       "\n",
       "   DRB   TRB  AST  STL  BLK  TOV   PF   PTS  \n",
       "0  4.6   6.7  1.0  0.7  0.7  1.2  2.2  10.5  \n",
       "1  6.5  11.5  2.3  0.9  1.1  1.9  2.3   8.6  \n",
       "2  7.3  10.0  3.3  1.2  0.8  2.5  2.8  21.6  \n",
       "3  1.0   1.7  0.5  0.1  0.1  0.3  1.4   4.6  \n",
       "4  3.7   4.7  1.2  0.7  0.7  0.7  1.9   9.5  \n",
       "\n",
       "[5 rows x 30 columns]"
      ]
     },
     "execution_count": 1,
     "metadata": {},
     "output_type": "execute_result"
    }
   ],
   "source": [
    "import pandas as pd\n",
    "import numpy as np\n",
    "import seaborn as sns\n",
    "import matplotlib.pyplot as plt\n",
    "import lxml\n",
    "\n",
    "from sklearn.cluster import KMeans\n",
    "from sklearn.preprocessing import MinMaxScaler\n",
    "from sklearn.linear_model import LogisticRegression\n",
    "from sklearn.metrics import accuracy_score, classification_report\n",
    "import statsmodels.api as sm\n",
    "\n",
    "\n",
    "## Load data\n",
    "url = \"https://www.basketball-reference.com/leagues/NBA_2023_per_game.html\"\n",
    "\n",
    "nba_data = pd.read_html(url, header=0)[0]\n",
    "nba_data.head()"
   ]
  },
  {
   "cell_type": "code",
   "execution_count": 2,
   "id": "ce7b0725",
   "metadata": {},
   "outputs": [
    {
     "data": {
      "text/plain": [
       "Index(['Rk', 'Player', 'Pos', 'Age', 'Tm', 'G', 'GS', 'MP', 'FG', 'FGA', 'FG%',\n",
       "       '3P', '3PA', '3P%', '2P', '2PA', '2P%', 'eFG%', 'FT', 'FTA', 'FT%',\n",
       "       'ORB', 'DRB', 'TRB', 'AST', 'STL', 'BLK', 'TOV', 'PF', 'PTS'],\n",
       "      dtype='object')"
      ]
     },
     "execution_count": 2,
     "metadata": {},
     "output_type": "execute_result"
    }
   ],
   "source": [
    "nba_data.columns"
   ]
  },
  {
   "cell_type": "markdown",
   "id": "27143feb",
   "metadata": {},
   "source": [
    "## Clean Data"
   ]
  },
  {
   "cell_type": "code",
   "execution_count": 3,
   "id": "508b586e",
   "metadata": {},
   "outputs": [],
   "source": [
    "def drop_rows_containing_string(df, col, string_value):\n",
    "    mask = df[col].str.contains(string_value)\n",
    "    df = df[~mask]\n",
    "    return df\n",
    "\n",
    "def convert_to_float(df, cols):\n",
    "    for col in cols:\n",
    "        df[col] = df[col].astype(float)\n",
    "    return df\n",
    "\n",
    "\n",
    "def create_name_column(df, name_list, column_name):\n",
    "    df[column_name] = 0\n",
    "    df.loc[df['Player'].isin(name_list), column_name] = 1\n",
    "    return df\n",
    "\n",
    "def row_number_by_player(df, player_col, sort_col):\n",
    "    # Sort the DataFrame by the player column and the sort column\n",
    "    df_sorted = df.sort_values([player_col, sort_col])\n",
    "\n",
    "    # Create a new column to hold the row numbers\n",
    "    df_sorted['row_number'] = (df_sorted.groupby(player_col).cumcount() + 1)\n",
    "\n",
    "    # Return the sorted DataFrame with the row numbers\n",
    "    return df_sorted\n"
   ]
  },
  {
   "cell_type": "code",
   "execution_count": 4,
   "id": "8edb6d11",
   "metadata": {},
   "outputs": [],
   "source": [
    "nba_data = row_number_by_player(nba_data, 'Player','G')\n",
    "nba_data = nba_data[nba_data['row_number']==1]"
   ]
  },
  {
   "cell_type": "code",
   "execution_count": 5,
   "id": "c34901f1",
   "metadata": {},
   "outputs": [
    {
     "name": "stdout",
     "output_type": "stream",
     "text": [
      "Age     float64\n",
      "G       float64\n",
      "MP      float64\n",
      "FG%     float64\n",
      "3P      float64\n",
      "3PA     float64\n",
      "3P%     float64\n",
      "2P%     float64\n",
      "eFG%    float64\n",
      "FTA     float64\n",
      "FT%     float64\n",
      "TRB     float64\n",
      "AST     float64\n",
      "STL     float64\n",
      "BLK     float64\n",
      "TOV     float64\n",
      "PTS     float64\n",
      "dtype: object\n"
     ]
    },
    {
     "name": "stderr",
     "output_type": "stream",
     "text": [
      "/var/folders/kk/3t_9_04x00gdsrmnsjw1d8rw0000gn/T/ipykernel_22642/1458449694.py:8: SettingWithCopyWarning: \n",
      "A value is trying to be set on a copy of a slice from a DataFrame.\n",
      "Try using .loc[row_indexer,col_indexer] = value instead\n",
      "\n",
      "See the caveats in the documentation: https://pandas.pydata.org/pandas-docs/stable/user_guide/indexing.html#returning-a-view-versus-a-copy\n",
      "  df[col] = df[col].astype(float)\n"
     ]
    }
   ],
   "source": [
    "## run both functions\n",
    "\n",
    "features = ['Age', 'G', 'MP', 'FG%',\n",
    "       '3P', '3PA', '3P%', '2P%', 'eFG%', 'FTA', 'FT%',\n",
    "       'TRB', 'AST', 'STL', 'BLK', 'TOV', 'PTS']\n",
    "\n",
    "## remove rows that have string values likes PTS \n",
    "cleaned_nba_data = drop_rows_containing_string(nba_data, 'PTS','PTS')\n",
    "## convert all object data types to float values\n",
    "final = convert_to_float(cleaned_nba_data, features)\n",
    "## validate all types are correct\n",
    "print(final[features].dtypes)"
   ]
  },
  {
   "cell_type": "markdown",
   "id": "cd8df4ab",
   "metadata": {},
   "source": [
    "## Build Kmeans Model"
   ]
  },
  {
   "cell_type": "code",
   "execution_count": 6,
   "id": "d9d0650f",
   "metadata": {},
   "outputs": [
    {
     "data": {
      "image/png": "[encoded data removed]",
      "text/plain": [
       "<Figure size 432x288 with 1 Axes>"
      ]
     },
     "metadata": {
      "needs_background": "light"
     },
     "output_type": "display_data"
    },
    {
     "name": "stdout",
     "output_type": "stream",
     "text": [
      "1.0    188\n",
      "0.0    175\n",
      "2.0     79\n",
      "3.0     37\n",
      "4.0     27\n",
      "Name: ClusterLabel, dtype: int64\n",
      "                    Age          G         MP       FG%        3P       3PA  \\\n",
      "ClusterLabel                                                                  \n",
      "0.0           25.516129  37.733871  20.641935  0.467540  1.021774  2.854839   \n",
      "1.0           25.992308  35.146154  21.240000  0.452738  1.078462  3.113077   \n",
      "2.0           26.418182  37.090909  21.463636  0.480764  1.209091  3.290909   \n",
      "3.0           26.758621  38.827586  20.627586  0.456586  1.086207  2.896552   \n",
      "4.0           28.500000  40.166667  22.394444  0.460389  1.250000  3.472222   \n",
      "\n",
      "                   3P%       2P%      eFG%       FTA       FT%       TRB  \\\n",
      "ClusterLabel                                                               \n",
      "0.0           0.325919  0.542540  0.536694  1.811290  0.749879  3.533065   \n",
      "1.0           0.316846  0.521300  0.520469  2.308462  0.770831  3.762308   \n",
      "2.0           0.329818  0.548127  0.556745  2.263636  0.765436  3.603636   \n",
      "3.0           0.323207  0.513862  0.526759  1.906897  0.745276  3.948276   \n",
      "4.0           0.358111  0.542778  0.536056  1.888889  0.733778  3.977778   \n",
      "\n",
      "                   AST       STL       BLK       TOV        PTS  \n",
      "ClusterLabel                                                     \n",
      "0.0           2.162097  0.659677  0.403226  1.144355   9.144355  \n",
      "1.0           2.200000  0.666923  0.370769  1.214615  10.312308  \n",
      "2.0           2.276364  0.643636  0.432727  1.265455  10.938182  \n",
      "3.0           1.906897  0.631034  0.431034  1.141379   9.748276  \n",
      "4.0           2.400000  0.638889  0.372222  1.094444   9.650000  \n"
     ]
    }
   ],
   "source": [
    "\n",
    "# Extract the relevant features\n",
    "data = final[features]\n",
    "\n",
    "data = data.fillna(0)\n",
    "\n",
    "# # Normalize the data\n",
    "scaler = MinMaxScaler()\n",
    "data = pd.DataFrame(scaler.fit_transform(data))\n",
    "data\n",
    "\n",
    "# # Step 2: Determine the optimal number of clusters\n",
    "wcss = []\n",
    "for i in range(1, 11):\n",
    "    kmeans = KMeans(n_clusters=i, init='k-means++', max_iter=300, n_init=10, random_state=0)\n",
    "    kmeans.fit(data)\n",
    "    wcss.append(kmeans.inertia_)\n",
    "plt.plot(range(1, 11), wcss)\n",
    "plt.title('Elbow Method')\n",
    "plt.xlabel('Number of clusters')\n",
    "plt.ylabel('WCSS')\n",
    "plt.show()\n",
    "\n",
    "# Step 3: Run the k-means algorithm\n",
    "kmeans = KMeans(n_clusters=5, init='k-means++', max_iter=300, n_init=10, random_state=0)\n",
    "pred_y = kmeans.fit_predict(data)\n",
    "\n",
    "# Step 4: Analyze the results\n",
    "cluster_labels = pd.DataFrame(pred_y, columns=['ClusterLabel'])\n",
    "result_df = pd.concat([final, cluster_labels], axis=1)\n",
    "\n",
    "# print the number of players in each cluster\n",
    "print(result_df['ClusterLabel'].value_counts())\n",
    "\n",
    "\n",
    "## drop nulls\n",
    "result_df.dropna(inplace=True)\n",
    "\n",
    "print(result_df.groupby('ClusterLabel')[features].mean())\n",
    "\n"
   ]
  },
  {
   "cell_type": "markdown",
   "id": "d991bd2d",
   "metadata": {},
   "source": [
    "## What's the best way to predict an all-star?\n",
    "### 1/ K-means Clustering\n",
    "### 2/ Logistic Regression\n",
    "### 3/ Hueristics [PPG] "
   ]
  },
  {
   "cell_type": "markdown",
   "id": "506b03a4",
   "metadata": {},
   "source": [
    "### Create a list of all-stars from 2023 roster!"
   ]
  },
  {
   "cell_type": "code",
   "execution_count": 7,
   "id": "197c1fbb",
   "metadata": {},
   "outputs": [],
   "source": [
    "actual_all_stars = ['LeBron James',\n",
    "                  'Stephen Curry', \n",
    "                  'Kevin Durant', \n",
    "                  'Joel Embiid', \n",
    "                  'Luka Dončić', \n",
    "                  'Giannis Antetokounmpo', \n",
    "                  'Nikola Jokić', \n",
    "                  'Kyrie Irving', \n",
    "                  'James Harden', \n",
    "                  'Jayson Tatum', \n",
    "                  'Bradley Beal', \n",
    "                  'Donovan Mitchell',\n",
    "                  'Bam Adebayo',\n",
    "                  'Jaylen Brown',\n",
    "                  'Tyrese Haliburton',\n",
    "                  'Jrue Holiday',\n",
    "                  'DeMar Derozan',\n",
    "                  'Julius Randle',\n",
    "                  'Pascal Siakam',\n",
    "                  'Lauri Markkanen',\n",
    "                  'Zion Williamson',\n",
    "                  'Anthony Edwards',\n",
    "                  \"De'Aaron Fox\",\n",
    "                  'Paul George',\n",
    "                  'Shai Gilgeous-Alexander',\n",
    "                  'Jaren Jackson Jr.',\n",
    "                  'Damian Lillard',\n",
    "                  'Domantas Sabonis',\n",
    "                  'Ja Morant']\n",
    "\n",
    "\n",
    "result_df = create_name_column(result_df, actual_all_stars, 'All Star')"
   ]
  },
  {
   "cell_type": "markdown",
   "id": "aca070cc",
   "metadata": {},
   "source": [
    "### 1/ K Means\n",
    "#### If we create clusters based on the players in season statistics, we should be able to reasonably isolate high and low performers. The plot below shows us that cluster 2 would capture 10% of all named all-stars, but unfortunately we see a wide distribution of all-star presence in 3 out of the 4 clusters formed. "
   ]
  },
  {
   "cell_type": "code",
   "execution_count": 8,
   "id": "23712637",
   "metadata": {},
   "outputs": [
    {
     "data": {
      "text/plain": [
       "<AxesSubplot:xlabel='ClusterLabel', ylabel='All Star'>"
      ]
     },
     "execution_count": 8,
     "metadata": {},
     "output_type": "execute_result"
    },
    {
     "data": {
      "image/png": "[encoded data removed]",
      "text/plain": [
       "<Figure size 432x288 with 1 Axes>"
      ]
     },
     "metadata": {
      "needs_background": "light"
     },
     "output_type": "display_data"
    }
   ],
   "source": [
    "all_star_plt = result_df.groupby('ClusterLabel')['All Star'].mean().reset_index()\n",
    "sns.barplot(data=all_star_plt, x='ClusterLabel',y='All Star')"
   ]
  },
  {
   "cell_type": "markdown",
   "id": "0db38bbd",
   "metadata": {},
   "source": [
    "### 2/ Logistic Regression\n",
    "#### We can use a classification model to predict all-star status, based on having 2023 all-stars roster being annouced last week. We see a really strong r-squared , explaining 88% of the variance for the target ['all star']. If we go ahead and use the model to predict which players the model would classify as an all-star, we 9 players missed in total. \n",
    "\n",
    "#### Predicated All Stars, but NOT actually: ['Anthony Davis']\n",
    "#### Actual All Stars, but NOT predicted: ['Bradley Beal', 'Jaren Jackson Jr.', 'Zion Williamson', 'Domantas Sabonis', 'DeMar Derozan', 'Julius Randle', 'Jayson Tatum', 'Pascal Siakam']"
   ]
  },
  {
   "cell_type": "code",
   "execution_count": 9,
   "id": "ad5ec5e5",
   "metadata": {},
   "outputs": [
    {
     "name": "stdout",
     "output_type": "stream",
     "text": [
      "Optimization terminated successfully.\n",
      "         Current function value: 0.028645\n",
      "         Iterations 17\n",
      "                           Logit Regression Results                           \n",
      "==============================================================================\n",
      "Dep. Variable:               All Star   No. Observations:                  356\n",
      "Model:                          Logit   Df Residuals:                      338\n",
      "Method:                           MLE   Df Model:                           17\n",
      "Date:                Thu, 16 Feb 2023   Pseudo R-squ.:                  0.8840\n",
      "Time:                        12:55:45   Log-Likelihood:                -10.197\n",
      "converged:                       True   LL-Null:                       -87.897\n",
      "Covariance Type:            nonrobust   LLR p-value:                 2.137e-24\n",
      "==============================================================================\n",
      "                 coef    std err          z      P>|z|      [0.025      0.975]\n",
      "------------------------------------------------------------------------------\n",
      "const        -95.2542     56.675     -1.681      0.093    -206.335      15.827\n",
      "Age            0.0309      0.253      0.122      0.903      -0.466       0.527\n",
      "G              0.3916      0.242      1.617      0.106      -0.083       0.866\n",
      "MP            -0.3482      0.924     -0.377      0.706      -2.159       1.463\n",
      "FG%         -145.5156    238.115     -0.611      0.541    -612.212     321.181\n",
      "3P            17.4869     16.186      1.080      0.280     -14.237      49.211\n",
      "3PA           -7.9992      6.155     -1.300      0.194     -20.062       4.064\n",
      "3P%          -13.7414     23.053     -0.596      0.551     -58.925      31.442\n",
      "2P%          123.8335     66.026      1.876      0.061      -5.575     253.242\n",
      "eFG%          60.3630    238.576      0.253      0.800    -407.237     527.963\n",
      "FTA           -2.4969      1.778     -1.404      0.160      -5.982       0.988\n",
      "FT%           -4.1447     27.323     -0.152      0.879     -57.697      49.408\n",
      "TRB            0.2328      0.371      0.627      0.530      -0.495       0.960\n",
      "AST            0.9348      0.932      1.003      0.316      -0.893       2.762\n",
      "STL            0.7603      4.302      0.177      0.860      -7.672       9.192\n",
      "BLK            7.1698      4.338      1.653      0.098      -1.332      15.672\n",
      "TOV            9.0072      5.843      1.541      0.123      -2.446      20.460\n",
      "PTS            2.2917      1.611      1.423      0.155      -0.865       5.448\n",
      "==============================================================================\n",
      "\n",
      "Possibly complete quasi-separation: A fraction 0.89 of observations can be\n",
      "perfectly predicted. This might indicate that there is complete\n",
      "quasi-separation. In this case some parameters will not be identified.\n"
     ]
    }
   ],
   "source": [
    "# select the relevant columns for the model\n",
    "target = 'All Star'\n",
    "\n",
    "# fit a logistic regression model\n",
    "model = sm.Logit(result_df[target], sm.add_constant(result_df[features]))\n",
    "result = model.fit()\n",
    "\n",
    "# print the summary of the model\n",
    "print(result.summary())\n"
   ]
  },
  {
   "cell_type": "code",
   "execution_count": 16,
   "id": "6fa211c4",
   "metadata": {},
   "outputs": [
    {
     "name": "stdout",
     "output_type": "stream",
     "text": [
      "['Anthony Davis', 'Anthony Edwards', 'Bam Adebayo', 'Damian Lillard', \"De'Aaron Fox\", 'Donovan Mitchell', 'Giannis Antetokounmpo', 'Ja Morant', 'James Harden', 'Jaylen Brown', 'Joel Embiid', 'Jrue Holiday', 'Kevin Durant', 'Kyrie Irving', 'Lauri Markkanen', 'LeBron James', 'Luka Dončić', 'Nikola Jokić', 'Paul George', 'Shai Gilgeous-Alexander', 'Stephen Curry', 'Tyrese Haliburton']\n",
      "22\n"
     ]
    }
   ],
   "source": [
    "# predict the probabilities of being an all-star\n",
    "probas = result.predict(sm.add_constant(result_df[features]))\n",
    "\n",
    "# set the threshold for being an all-star\n",
    "threshold = 0.5\n",
    "\n",
    "# which is a common threshold value used in binary classification problems. \n",
    "# This means that if the predicted probability of a player being an all-star is greater than or equal to 0.5, the model predicts that the player is an all-star,\n",
    "# otherwise it predicts that the player is not an all-star.\n",
    "\n",
    "# get the list of players who should have been all-stars\n",
    "predicted_all_stars = result_df.loc[probas >= threshold, 'Player'].tolist()\n",
    "print(predicted_all_stars)\n",
    "print(len(predicted_all_stars))"
   ]
  },
  {
   "cell_type": "code",
   "execution_count": 11,
   "id": "13bd9596",
   "metadata": {},
   "outputs": [],
   "source": [
    "def compare_lists(list1, list2):\n",
    "    actual_not_predicted = list(set(list1) - set(list2))\n",
    "    predicted_not_actual = list(set(list2) - set(list1))\n",
    "\n",
    "    return predicted_not_actual, actual_not_predicted\n"
   ]
  },
  {
   "cell_type": "code",
   "execution_count": 12,
   "id": "cd92b681",
   "metadata": {},
   "outputs": [
    {
     "name": "stdout",
     "output_type": "stream",
     "text": [
      "Predicated All Stars, but NOT actually: ['Anthony Davis']\n",
      "Actual All Stars, but NOT predicted: ['Bradley Beal', 'Jaren Jackson Jr.', 'Zion Williamson', 'Domantas Sabonis', 'DeMar Derozan', 'Julius Randle', 'Jayson Tatum', 'Pascal Siakam']\n"
     ]
    }
   ],
   "source": [
    "predicted_not_actual, actual_not_predicted = compare_lists(actual_all_stars, predicted_all_stars)\n",
    "\n",
    "print(\"Predicated All Stars, but NOT actually:\", predicted_not_actual)\n",
    "print(\"Actual All Stars, but NOT predicted:\", actual_not_predicted)"
   ]
  },
  {
   "cell_type": "markdown",
   "id": "c09b163d",
   "metadata": {},
   "source": [
    "### 3/ Hueristic\n",
    "#### The league indexs a lot of points. The players who score the most , by definition are the most exciting and will likely recieve a lot of votes. Lastly, we can use a simple hueristic to infer for the future. Right now, 2 out of 3 all-stars selected were in the top 30 of scoring. If you were lazy, and wanted to just use PPG next year in predicting, it might be the easiest bet. "
   ]
  },
  {
   "cell_type": "code",
   "execution_count": 13,
   "id": "8b80a056",
   "metadata": {},
   "outputs": [
    {
     "data": {
      "text/plain": [
       "0.6333333333333333"
      ]
     },
     "execution_count": 13,
     "metadata": {},
     "output_type": "execute_result"
    }
   ],
   "source": [
    "## validate that the top scorers have allstar tags\n",
    "df_sorted = result_df.sort_values(by='PTS', ascending=False)\n",
    "top_scorers = df_sorted.head(30)\n",
    "top_scorers['All Star'].mean()"
   ]
  }
 ],
 "metadata": {
  "kernelspec": {
   "display_name": "Python 3 (ipykernel)",
   "language": "python",
   "name": "python3"
  },
  "language_info": {
   "codemirror_mode": {
    "name": "ipython",
    "version": 3
   },
   "file_extension": ".py",
   "mimetype": "text/x-python",
   "name": "python",
   "nbconvert_exporter": "python",
   "pygments_lexer": "ipython3",
   "version": "3.9.6"
  }
 },
 "nbformat": 4,
 "nbformat_minor": 5
}
